{
 "cells": [
  {
   "cell_type": "markdown",
   "id": "8f12ebc3-2df0-4abe-bf32-e9b4995b1d23",
   "metadata": {},
   "source": [
    "# About data"
   ]
  },
  {
   "cell_type": "code",
   "execution_count": 1,
   "id": "9cafc5c8-56a6-48c5-9928-bf80dfbc051c",
   "metadata": {},
   "outputs": [
    {
     "name": "stderr",
     "output_type": "stream",
     "text": [
      "/home/pratik/.local/lib/python3.10/site-packages/matplotlib/projections/__init__.py:63: UserWarning: Unable to import Axes3D. This may be due to multiple versions of Matplotlib being installed (e.g. as a system package and as a pip package). As a result, the 3D projection is not available.\n",
      "  warnings.warn(\"Unable to import Axes3D. This may be due to multiple versions of \"\n"
     ]
    }
   ],
   "source": [
    "import numpy as np\n",
    "import pandas as pd\n",
    "import matplotlib.pyplot as plt"
   ]
  },
  {
   "cell_type": "markdown",
   "id": "c3df23b5-4fa9-450b-8b04-253322450b93",
   "metadata": {},
   "source": [
    "* dataset is from CIBIL Bureau which consists of customers data\n",
    "* there are 61 independent feature and 1 dependent feature\n",
    "* dependent feature consists of 4 classes --> P1, P2, P3, P4\n",
    "* P1 is given to customer with very good credit score\n",
    "* P2 is given to customer which is good but not as good as P1 and so on.\n",
    "* Loan is also called TL (Trade line) in bank language.\n",
    "* Secured loans are something which is backed by a collateral while unsecured is not backed by anything.\n",
    "* This is why unsecured loans has more interest rates compared to secured loans"
   ]
  },
  {
   "cell_type": "code",
   "execution_count": 112,
   "id": "32e47c9a-888c-4ea0-b76c-548b80e85394",
   "metadata": {},
   "outputs": [
    {
     "data": {
      "text/html": [
       "<div>\n",
       "<style scoped>\n",
       "    .dataframe tbody tr th:only-of-type {\n",
       "        vertical-align: middle;\n",
       "    }\n",
       "\n",
       "    .dataframe tbody tr th {\n",
       "        vertical-align: top;\n",
       "    }\n",
       "\n",
       "    .dataframe thead th {\n",
       "        text-align: right;\n",
       "    }\n",
       "</style>\n",
       "<table border=\"1\" class=\"dataframe\">\n",
       "  <thead>\n",
       "    <tr style=\"text-align: right;\">\n",
       "      <th></th>\n",
       "      <th>PROSPECTID</th>\n",
       "      <th>Total_TL</th>\n",
       "      <th>Tot_Closed_TL</th>\n",
       "      <th>Tot_Active_TL</th>\n",
       "      <th>Total_TL_opened_L6M</th>\n",
       "      <th>Tot_TL_closed_L6M</th>\n",
       "      <th>pct_tl_open_L6M</th>\n",
       "      <th>pct_tl_closed_L6M</th>\n",
       "      <th>pct_active_tl</th>\n",
       "      <th>pct_closed_tl</th>\n",
       "      <th>...</th>\n",
       "      <th>CC_TL</th>\n",
       "      <th>Consumer_TL</th>\n",
       "      <th>Gold_TL</th>\n",
       "      <th>Home_TL</th>\n",
       "      <th>PL_TL</th>\n",
       "      <th>Secured_TL</th>\n",
       "      <th>Unsecured_TL</th>\n",
       "      <th>Other_TL</th>\n",
       "      <th>Age_Oldest_TL</th>\n",
       "      <th>Age_Newest_TL</th>\n",
       "    </tr>\n",
       "  </thead>\n",
       "  <tbody>\n",
       "    <tr>\n",
       "      <th>0</th>\n",
       "      <td>1</td>\n",
       "      <td>5</td>\n",
       "      <td>4</td>\n",
       "      <td>1</td>\n",
       "      <td>0</td>\n",
       "      <td>0</td>\n",
       "      <td>0.0</td>\n",
       "      <td>0.0</td>\n",
       "      <td>0.2</td>\n",
       "      <td>0.8</td>\n",
       "      <td>...</td>\n",
       "      <td>0</td>\n",
       "      <td>0</td>\n",
       "      <td>1</td>\n",
       "      <td>0</td>\n",
       "      <td>4</td>\n",
       "      <td>1</td>\n",
       "      <td>4</td>\n",
       "      <td>0</td>\n",
       "      <td>72</td>\n",
       "      <td>18</td>\n",
       "    </tr>\n",
       "    <tr>\n",
       "      <th>1</th>\n",
       "      <td>2</td>\n",
       "      <td>1</td>\n",
       "      <td>0</td>\n",
       "      <td>1</td>\n",
       "      <td>0</td>\n",
       "      <td>0</td>\n",
       "      <td>0.0</td>\n",
       "      <td>0.0</td>\n",
       "      <td>1.0</td>\n",
       "      <td>0.0</td>\n",
       "      <td>...</td>\n",
       "      <td>0</td>\n",
       "      <td>1</td>\n",
       "      <td>0</td>\n",
       "      <td>0</td>\n",
       "      <td>0</td>\n",
       "      <td>0</td>\n",
       "      <td>1</td>\n",
       "      <td>0</td>\n",
       "      <td>7</td>\n",
       "      <td>7</td>\n",
       "    </tr>\n",
       "  </tbody>\n",
       "</table>\n",
       "<p>2 rows × 26 columns</p>\n",
       "</div>"
      ],
      "text/plain": [
       "   PROSPECTID  Total_TL  Tot_Closed_TL  Tot_Active_TL  Total_TL_opened_L6M  \\\n",
       "0           1         5              4              1                    0   \n",
       "1           2         1              0              1                    0   \n",
       "\n",
       "   Tot_TL_closed_L6M  pct_tl_open_L6M  pct_tl_closed_L6M  pct_active_tl  \\\n",
       "0                  0              0.0                0.0            0.2   \n",
       "1                  0              0.0                0.0            1.0   \n",
       "\n",
       "   pct_closed_tl  ...  CC_TL  Consumer_TL  Gold_TL  Home_TL  PL_TL  \\\n",
       "0            0.8  ...      0            0        1        0      4   \n",
       "1            0.0  ...      0            1        0        0      0   \n",
       "\n",
       "   Secured_TL  Unsecured_TL  Other_TL  Age_Oldest_TL  Age_Newest_TL  \n",
       "0           1             4         0             72             18  \n",
       "1           0             1         0              7              7  \n",
       "\n",
       "[2 rows x 26 columns]"
      ]
     },
     "execution_count": 112,
     "metadata": {},
     "output_type": "execute_result"
    }
   ],
   "source": [
    "internal_df = pd.read_excel('case_study1.xlsx')\n",
    "internal_df.head(2)"
   ]
  },
  {
   "cell_type": "markdown",
   "id": "056c8d5b-831c-4020-83b5-fb86379bbf2b",
   "metadata": {},
   "source": [
    "* Total_TL = total loans\n",
    "* L6M = loans in last 6 months\n",
    "* pct_tl = percentage of loan"
   ]
  },
  {
   "cell_type": "code",
   "execution_count": 110,
   "id": "42de0be7-7e94-4a2e-b0d1-21221b53026d",
   "metadata": {},
   "outputs": [
    {
     "data": {
      "text/html": [
       "<div>\n",
       "<style scoped>\n",
       "    .dataframe tbody tr th:only-of-type {\n",
       "        vertical-align: middle;\n",
       "    }\n",
       "\n",
       "    .dataframe tbody tr th {\n",
       "        vertical-align: top;\n",
       "    }\n",
       "\n",
       "    .dataframe thead th {\n",
       "        text-align: right;\n",
       "    }\n",
       "</style>\n",
       "<table border=\"1\" class=\"dataframe\">\n",
       "  <thead>\n",
       "    <tr style=\"text-align: right;\">\n",
       "      <th></th>\n",
       "      <th>PROSPECTID</th>\n",
       "      <th>time_since_recent_payment</th>\n",
       "      <th>time_since_first_deliquency</th>\n",
       "      <th>time_since_recent_deliquency</th>\n",
       "      <th>num_times_delinquent</th>\n",
       "      <th>max_delinquency_level</th>\n",
       "      <th>max_recent_level_of_deliq</th>\n",
       "      <th>num_deliq_6mts</th>\n",
       "      <th>num_deliq_12mts</th>\n",
       "      <th>num_deliq_6_12mts</th>\n",
       "      <th>...</th>\n",
       "      <th>pct_CC_enq_L6m_of_L12m</th>\n",
       "      <th>pct_PL_enq_L6m_of_ever</th>\n",
       "      <th>pct_CC_enq_L6m_of_ever</th>\n",
       "      <th>max_unsec_exposure_inPct</th>\n",
       "      <th>HL_Flag</th>\n",
       "      <th>GL_Flag</th>\n",
       "      <th>last_prod_enq2</th>\n",
       "      <th>first_prod_enq2</th>\n",
       "      <th>Credit_Score</th>\n",
       "      <th>Approved_Flag</th>\n",
       "    </tr>\n",
       "  </thead>\n",
       "  <tbody>\n",
       "    <tr>\n",
       "      <th>0</th>\n",
       "      <td>1</td>\n",
       "      <td>549</td>\n",
       "      <td>35</td>\n",
       "      <td>15</td>\n",
       "      <td>11</td>\n",
       "      <td>29</td>\n",
       "      <td>29</td>\n",
       "      <td>0</td>\n",
       "      <td>0</td>\n",
       "      <td>0</td>\n",
       "      <td>...</td>\n",
       "      <td>0.0</td>\n",
       "      <td>0.0</td>\n",
       "      <td>0.0</td>\n",
       "      <td>13.333</td>\n",
       "      <td>1</td>\n",
       "      <td>0</td>\n",
       "      <td>PL</td>\n",
       "      <td>PL</td>\n",
       "      <td>696</td>\n",
       "      <td>P2</td>\n",
       "    </tr>\n",
       "    <tr>\n",
       "      <th>1</th>\n",
       "      <td>2</td>\n",
       "      <td>47</td>\n",
       "      <td>-99999</td>\n",
       "      <td>-99999</td>\n",
       "      <td>0</td>\n",
       "      <td>-99999</td>\n",
       "      <td>0</td>\n",
       "      <td>0</td>\n",
       "      <td>0</td>\n",
       "      <td>0</td>\n",
       "      <td>...</td>\n",
       "      <td>0.0</td>\n",
       "      <td>0.0</td>\n",
       "      <td>0.0</td>\n",
       "      <td>0.860</td>\n",
       "      <td>0</td>\n",
       "      <td>0</td>\n",
       "      <td>ConsumerLoan</td>\n",
       "      <td>ConsumerLoan</td>\n",
       "      <td>685</td>\n",
       "      <td>P2</td>\n",
       "    </tr>\n",
       "  </tbody>\n",
       "</table>\n",
       "<p>2 rows × 62 columns</p>\n",
       "</div>"
      ],
      "text/plain": [
       "   PROSPECTID  time_since_recent_payment  time_since_first_deliquency  \\\n",
       "0           1                        549                           35   \n",
       "1           2                         47                       -99999   \n",
       "\n",
       "   time_since_recent_deliquency  num_times_delinquent  max_delinquency_level  \\\n",
       "0                            15                    11                     29   \n",
       "1                        -99999                     0                 -99999   \n",
       "\n",
       "   max_recent_level_of_deliq  num_deliq_6mts  num_deliq_12mts  \\\n",
       "0                         29               0                0   \n",
       "1                          0               0                0   \n",
       "\n",
       "   num_deliq_6_12mts  ...  pct_CC_enq_L6m_of_L12m  pct_PL_enq_L6m_of_ever  \\\n",
       "0                  0  ...                     0.0                     0.0   \n",
       "1                  0  ...                     0.0                     0.0   \n",
       "\n",
       "   pct_CC_enq_L6m_of_ever  max_unsec_exposure_inPct  HL_Flag  GL_Flag  \\\n",
       "0                     0.0                    13.333        1        0   \n",
       "1                     0.0                     0.860        0        0   \n",
       "\n",
       "   last_prod_enq2  first_prod_enq2  Credit_Score  Approved_Flag  \n",
       "0              PL               PL           696             P2  \n",
       "1    ConsumerLoan     ConsumerLoan           685             P2  \n",
       "\n",
       "[2 rows x 62 columns]"
      ]
     },
     "execution_count": 110,
     "metadata": {},
     "output_type": "execute_result"
    }
   ],
   "source": [
    "external_df = pd.read_excel('case_study2.xlsx')\n",
    "external_df.head(2)"
   ]
  },
  {
   "cell_type": "code",
   "execution_count": 4,
   "id": "7903b829-52fa-4456-8da8-606f0747e993",
   "metadata": {},
   "outputs": [],
   "source": [
    "from sklearn.metrics import r2_score\n",
    "from scipy.stats import chi2_contingency\n",
    "from statsmodels.stats.outliers_influence import variance_inflation_factor\n",
    "\n",
    "from sklearn.model_selection import train_test_split\n",
    "from sklearn.ensemble import RandomForestClassifier\n",
    "from sklearn.metrics import accuracy_score, classification_report, precision_recall_fscore_support\n",
    "\n",
    "import os\n",
    "import warnings\n",
    "warnings.filterwarnings('ignore')"
   ]
  },
  {
   "cell_type": "code",
   "execution_count": 5,
   "id": "370a91e0-9c6b-4fc9-a59e-ad026ae05b44",
   "metadata": {},
   "outputs": [],
   "source": [
    "df1 = internal_df.copy()\n",
    "df2 = external_df.copy()"
   ]
  },
  {
   "cell_type": "code",
   "execution_count": 6,
   "id": "88757e58-35b3-4606-88a2-7182ae5a4388",
   "metadata": {},
   "outputs": [
    {
     "name": "stdout",
     "output_type": "stream",
     "text": [
      "<class 'pandas.core.frame.DataFrame'>\n",
      "RangeIndex: 51336 entries, 0 to 51335\n",
      "Data columns (total 26 columns):\n",
      " #   Column                Non-Null Count  Dtype  \n",
      "---  ------                --------------  -----  \n",
      " 0   PROSPECTID            51336 non-null  int64  \n",
      " 1   Total_TL              51336 non-null  int64  \n",
      " 2   Tot_Closed_TL         51336 non-null  int64  \n",
      " 3   Tot_Active_TL         51336 non-null  int64  \n",
      " 4   Total_TL_opened_L6M   51336 non-null  int64  \n",
      " 5   Tot_TL_closed_L6M     51336 non-null  int64  \n",
      " 6   pct_tl_open_L6M       51336 non-null  float64\n",
      " 7   pct_tl_closed_L6M     51336 non-null  float64\n",
      " 8   pct_active_tl         51336 non-null  float64\n",
      " 9   pct_closed_tl         51336 non-null  float64\n",
      " 10  Total_TL_opened_L12M  51336 non-null  int64  \n",
      " 11  Tot_TL_closed_L12M    51336 non-null  int64  \n",
      " 12  pct_tl_open_L12M      51336 non-null  float64\n",
      " 13  pct_tl_closed_L12M    51336 non-null  float64\n",
      " 14  Tot_Missed_Pmnt       51336 non-null  int64  \n",
      " 15  Auto_TL               51336 non-null  int64  \n",
      " 16  CC_TL                 51336 non-null  int64  \n",
      " 17  Consumer_TL           51336 non-null  int64  \n",
      " 18  Gold_TL               51336 non-null  int64  \n",
      " 19  Home_TL               51336 non-null  int64  \n",
      " 20  PL_TL                 51336 non-null  int64  \n",
      " 21  Secured_TL            51336 non-null  int64  \n",
      " 22  Unsecured_TL          51336 non-null  int64  \n",
      " 23  Other_TL              51336 non-null  int64  \n",
      " 24  Age_Oldest_TL         51336 non-null  int64  \n",
      " 25  Age_Newest_TL         51336 non-null  int64  \n",
      "dtypes: float64(6), int64(20)\n",
      "memory usage: 10.2 MB\n"
     ]
    }
   ],
   "source": [
    "df1.info()"
   ]
  },
  {
   "cell_type": "markdown",
   "id": "fc4e6bca-f4c3-4247-88f6-019c7c8f642c",
   "metadata": {},
   "source": [
    "# Dealing with null values\n",
    "* -99999 means null values"
   ]
  },
  {
   "cell_type": "code",
   "execution_count": 7,
   "id": "25a65799-f814-4cbf-ab0e-c3235dcb3d6d",
   "metadata": {},
   "outputs": [
    {
     "data": {
      "text/plain": [
       "(40, 26)"
      ]
     },
     "execution_count": 7,
     "metadata": {},
     "output_type": "execute_result"
    }
   ],
   "source": [
    "df1[df1.eq(-99999).any(axis = 1)].shape"
   ]
  },
  {
   "cell_type": "code",
   "execution_count": 8,
   "id": "f73ef80f-e980-4754-a381-da6c22cef609",
   "metadata": {},
   "outputs": [],
   "source": [
    "df1 = df1[~df1.eq(-99999).any(axis = 1)]"
   ]
  },
  {
   "cell_type": "code",
   "execution_count": 9,
   "id": "8e3c6ad4-a946-4a75-94c4-39b50cf87c2d",
   "metadata": {},
   "outputs": [
    {
     "data": {
      "text/plain": [
       "(51296, 26)"
      ]
     },
     "execution_count": 9,
     "metadata": {},
     "output_type": "execute_result"
    }
   ],
   "source": [
    "df1.shape"
   ]
  },
  {
   "cell_type": "code",
   "execution_count": 10,
   "id": "17ec2dd6-8b3a-4f05-8139-564ebedfe1ea",
   "metadata": {},
   "outputs": [
    {
     "name": "stdout",
     "output_type": "stream",
     "text": [
      "[2, 3, 5, 10, 11, 47, 49, 55]\n"
     ]
    }
   ],
   "source": [
    "columns_to_be_removed = []\n",
    "\n",
    "for i in range(0, df2.shape[1]):\n",
    "    if df2[df2.iloc[:, i] == -99999].shape[0] > 10000:\n",
    "        columns_to_be_removed.append(i)\n",
    "\n",
    "print(columns_to_be_removed)"
   ]
  },
  {
   "cell_type": "code",
   "execution_count": 11,
   "id": "3b0e2592-6a0a-4734-b4cd-912f021da0cd",
   "metadata": {},
   "outputs": [],
   "source": [
    "df2 = df2.drop(df2.iloc[:, columns_to_be_removed], axis = 1)"
   ]
  },
  {
   "cell_type": "code",
   "execution_count": 12,
   "id": "a7f562af-0f7b-4219-b74b-60533fca49e0",
   "metadata": {},
   "outputs": [
    {
     "data": {
      "text/plain": [
       "(51336, 54)"
      ]
     },
     "execution_count": 12,
     "metadata": {},
     "output_type": "execute_result"
    }
   ],
   "source": [
    "df2.shape"
   ]
  },
  {
   "cell_type": "code",
   "execution_count": 13,
   "id": "39eb54c2-5b1b-4d6a-a75d-2fa6878fd40f",
   "metadata": {},
   "outputs": [
    {
     "data": {
      "text/plain": [
       "(42066, 54)"
      ]
     },
     "execution_count": 13,
     "metadata": {},
     "output_type": "execute_result"
    }
   ],
   "source": [
    "for i in df2.columns:\n",
    "    df2 = df2[~df2.eq(-99999).any(axis = 1)]\n",
    "\n",
    "df2.shape"
   ]
  },
  {
   "cell_type": "code",
   "execution_count": 14,
   "id": "81490d6c-b1f5-488f-9a7f-2e3feac51486",
   "metadata": {},
   "outputs": [],
   "source": [
    "# df1.isna().sum()"
   ]
  },
  {
   "cell_type": "code",
   "execution_count": 15,
   "id": "c305f1da-9223-4e07-89ad-baab99d38d57",
   "metadata": {},
   "outputs": [],
   "source": [
    "# df2.isna().sum()"
   ]
  },
  {
   "cell_type": "code",
   "execution_count": 16,
   "id": "52e97bbe-f309-409f-91a4-72e916c5409f",
   "metadata": {},
   "outputs": [],
   "source": [
    "df = pd.merge(df1, df2, how = 'inner', left_on = ['PROSPECTID'], right_on = ['PROSPECTID'])"
   ]
  },
  {
   "cell_type": "code",
   "execution_count": 17,
   "id": "0bf2949f-e6f0-4890-a4a0-9323bfc1da47",
   "metadata": {},
   "outputs": [
    {
     "data": {
      "text/plain": [
       "(42064, 79)"
      ]
     },
     "execution_count": 17,
     "metadata": {},
     "output_type": "execute_result"
    }
   ],
   "source": [
    "df.shape"
   ]
  },
  {
   "cell_type": "code",
   "execution_count": 111,
   "id": "b15b4bed-c394-4dd4-91c3-ff59ecfb4093",
   "metadata": {},
   "outputs": [
    {
     "data": {
      "text/html": [
       "<div>\n",
       "<style scoped>\n",
       "    .dataframe tbody tr th:only-of-type {\n",
       "        vertical-align: middle;\n",
       "    }\n",
       "\n",
       "    .dataframe tbody tr th {\n",
       "        vertical-align: top;\n",
       "    }\n",
       "\n",
       "    .dataframe thead th {\n",
       "        text-align: right;\n",
       "    }\n",
       "</style>\n",
       "<table border=\"1\" class=\"dataframe\">\n",
       "  <thead>\n",
       "    <tr style=\"text-align: right;\">\n",
       "      <th></th>\n",
       "      <th>PROSPECTID</th>\n",
       "      <th>Total_TL</th>\n",
       "      <th>Tot_Closed_TL</th>\n",
       "      <th>Tot_Active_TL</th>\n",
       "      <th>Total_TL_opened_L6M</th>\n",
       "      <th>Tot_TL_closed_L6M</th>\n",
       "      <th>pct_tl_open_L6M</th>\n",
       "      <th>pct_tl_closed_L6M</th>\n",
       "      <th>pct_active_tl</th>\n",
       "      <th>pct_closed_tl</th>\n",
       "      <th>...</th>\n",
       "      <th>pct_PL_enq_L6m_of_L12m</th>\n",
       "      <th>pct_CC_enq_L6m_of_L12m</th>\n",
       "      <th>pct_PL_enq_L6m_of_ever</th>\n",
       "      <th>pct_CC_enq_L6m_of_ever</th>\n",
       "      <th>HL_Flag</th>\n",
       "      <th>GL_Flag</th>\n",
       "      <th>last_prod_enq2</th>\n",
       "      <th>first_prod_enq2</th>\n",
       "      <th>Credit_Score</th>\n",
       "      <th>Approved_Flag</th>\n",
       "    </tr>\n",
       "  </thead>\n",
       "  <tbody>\n",
       "    <tr>\n",
       "      <th>23681</th>\n",
       "      <td>28927</td>\n",
       "      <td>2</td>\n",
       "      <td>0</td>\n",
       "      <td>2</td>\n",
       "      <td>0</td>\n",
       "      <td>0</td>\n",
       "      <td>0.0</td>\n",
       "      <td>0.0</td>\n",
       "      <td>1.0</td>\n",
       "      <td>0.0</td>\n",
       "      <td>...</td>\n",
       "      <td>0.0</td>\n",
       "      <td>0.0</td>\n",
       "      <td>0.0</td>\n",
       "      <td>0.0</td>\n",
       "      <td>0</td>\n",
       "      <td>0</td>\n",
       "      <td>ConsumerLoan</td>\n",
       "      <td>others</td>\n",
       "      <td>691</td>\n",
       "      <td>P2</td>\n",
       "    </tr>\n",
       "  </tbody>\n",
       "</table>\n",
       "<p>1 rows × 79 columns</p>\n",
       "</div>"
      ],
      "text/plain": [
       "       PROSPECTID  Total_TL  Tot_Closed_TL  Tot_Active_TL  \\\n",
       "23681       28927         2              0              2   \n",
       "\n",
       "       Total_TL_opened_L6M  Tot_TL_closed_L6M  pct_tl_open_L6M  \\\n",
       "23681                    0                  0              0.0   \n",
       "\n",
       "       pct_tl_closed_L6M  pct_active_tl  pct_closed_tl  ...  \\\n",
       "23681                0.0            1.0            0.0  ...   \n",
       "\n",
       "       pct_PL_enq_L6m_of_L12m  pct_CC_enq_L6m_of_L12m  pct_PL_enq_L6m_of_ever  \\\n",
       "23681                     0.0                     0.0                     0.0   \n",
       "\n",
       "       pct_CC_enq_L6m_of_ever  HL_Flag  GL_Flag  last_prod_enq2  \\\n",
       "23681                     0.0        0        0    ConsumerLoan   \n",
       "\n",
       "       first_prod_enq2  Credit_Score  Approved_Flag  \n",
       "23681           others           691             P2  \n",
       "\n",
       "[1 rows x 79 columns]"
      ]
     },
     "execution_count": 111,
     "metadata": {},
     "output_type": "execute_result"
    }
   ],
   "source": [
    "df.sample()"
   ]
  },
  {
   "cell_type": "code",
   "execution_count": 19,
   "id": "e38eb30e-9c3f-4fb7-b0ae-aa71e5fc2747",
   "metadata": {},
   "outputs": [
    {
     "data": {
      "text/plain": [
       "0"
      ]
     },
     "execution_count": 19,
     "metadata": {},
     "output_type": "execute_result"
    }
   ],
   "source": [
    "df.isna().sum().sum()"
   ]
  },
  {
   "cell_type": "markdown",
   "id": "99d68d80-e0fc-471c-9303-93d0c0917ec3",
   "metadata": {},
   "source": [
    "# Dealing with categorical columns"
   ]
  },
  {
   "cell_type": "code",
   "execution_count": 20,
   "id": "895cd94f-fb3e-4549-b9ff-0643ef78bbe5",
   "metadata": {},
   "outputs": [
    {
     "name": "stdout",
     "output_type": "stream",
     "text": [
      "MARITALSTATUS\n",
      "EDUCATION\n",
      "GENDER\n",
      "last_prod_enq2\n",
      "first_prod_enq2\n",
      "Approved_Flag\n"
     ]
    }
   ],
   "source": [
    "for i in df.columns:\n",
    "    if df[i].dtype == 'object':\n",
    "        print(i)"
   ]
  },
  {
   "cell_type": "code",
   "execution_count": 21,
   "id": "050c8510-f809-4bb0-a3e6-93a0df4dd110",
   "metadata": {},
   "outputs": [
    {
     "name": "stdout",
     "output_type": "stream",
     "text": [
      "MARITALSTATUS\n",
      "Married    30886\n",
      "Single     11178\n",
      "Name: count, dtype: int64\n",
      "\n",
      "********************\n",
      "EDUCATION\n",
      "GRADUATE          14140\n",
      "12TH              11703\n",
      "SSC                7241\n",
      "UNDER GRADUATE     4572\n",
      "OTHERS             2291\n",
      "POST-GRADUATE      1898\n",
      "PROFESSIONAL        219\n",
      "Name: count, dtype: int64\n",
      "\n",
      "********************\n",
      "GENDER\n",
      "M    37345\n",
      "F     4719\n",
      "Name: count, dtype: int64\n",
      "\n",
      "********************\n",
      "last_prod_enq2\n",
      "ConsumerLoan    16480\n",
      "others          13653\n",
      "PL               7553\n",
      "CC               2195\n",
      "AL               1353\n",
      "HL                830\n",
      "Name: count, dtype: int64\n",
      "\n",
      "********************\n",
      "first_prod_enq2\n",
      "others          20640\n",
      "ConsumerLoan    11075\n",
      "PL               4431\n",
      "AL               2641\n",
      "CC               1988\n",
      "HL               1289\n",
      "Name: count, dtype: int64\n",
      "\n",
      "********************\n",
      "Approved_Flag\n",
      "P2    25452\n",
      "P3     6440\n",
      "P4     5264\n",
      "P1     4908\n",
      "Name: count, dtype: int64\n",
      "\n",
      "********************\n"
     ]
    }
   ],
   "source": [
    "for i in df.columns:\n",
    "    if df[i].dtype == 'object':\n",
    "        print(df[i].value_counts())\n",
    "        print()\n",
    "        print('*'*20)"
   ]
  },
  {
   "cell_type": "markdown",
   "id": "7b18e3a5-b493-47f0-99a0-612848d0736c",
   "metadata": {},
   "source": [
    "* first we will work on Marital Status\n",
    "* marital status has 2 value_counts --> single and married\n",
    "* now we cannot encode this to 0 and 1 because these are not ORDINAL values\n",
    "* ordinal values are --> small, medium, large or low and high\n",
    "\n",
    "# We will perform Hypothesis testing\n",
    "Question - Are these two columns associated ?\n",
    "\n",
    "* `Null Hypothesis (H0)` --> this two are not associated\n",
    "* `Alternate Hypothesis (H1)` --> this two are associated\n",
    "\n",
    "* `Alpha --> significance level`, usually it is 5% or 0.05, This threshold tells us, main kitna galat ho sakta hoon.\n",
    "\n",
    "* `Confidence level` --> point estimate and margin of error (alpha), 1 - alpha\n",
    "\n",
    "* We need to find evidence to support the alternate hypothesis which we do using p-value.\n",
    "* If we don't have enough evidence then we can say that we don't have enough evidence to support alternate hypothesis, and if we have enough evidence then we reject the null hypothesis.\n",
    "\n",
    "* `p-value` is calculated using tests, tests like t-test, chi-square test, Anova.\n",
    "\n",
    "* `if p-value <= alpha --> Reject H0 and if p-value >= alpha --> fail to reject the H0`\n",
    "\n",
    "# TESTS\n",
    "* <b>Chisquare</b> - categorical v categorical\n",
    "  \n",
    "  `Ex : marital status vs loan approved or not`\n",
    "  \n",
    "* <b>t-test</b> - categorical v numerical (2 categorical columns) --> only 2 value_counts\n",
    "\n",
    "  `Ex : Age vs loan approved or not`\n",
    "  \n",
    "* <b>ANOVA</b> - categorical v numerical (>=3 categorical columns) --> more than or equal to 3 value_counts\n",
    "  \n",
    "  `Ex : Age vs p1, p2, p3, p4`"
   ]
  },
  {
   "cell_type": "markdown",
   "id": "726413e6-90a6-44a7-8e15-51bed7d01885",
   "metadata": {},
   "source": [
    "# Feature selection \n",
    "#### Categorical columns"
   ]
  },
  {
   "cell_type": "code",
   "execution_count": 22,
   "id": "10acd64f-505c-4ec8-b04d-90b82a390aa2",
   "metadata": {},
   "outputs": [
    {
     "name": "stdout",
     "output_type": "stream",
     "text": [
      "MARITALSTATUS --- 3.578180861038862e-233\n",
      "EDUCATION --- 2.6942265249737532e-30\n",
      "GENDER --- 1.907936100186563e-05\n",
      "last_prod_enq2 --- 0.0\n",
      "first_prod_enq2 --- 7.84997610555419e-287\n"
     ]
    }
   ],
   "source": [
    "# Chisquare test\n",
    "\n",
    "for i in ['MARITALSTATUS', 'EDUCATION', 'GENDER', 'last_prod_enq2', 'first_prod_enq2']:\n",
    "    chi2, pval, _, _ = chi2_contingency(pd.crosstab(df[i], df['Approved_Flag']))\n",
    "    print(i, '---', pval)"
   ]
  },
  {
   "cell_type": "markdown",
   "id": "d2b768af-6eea-4ad7-97cb-0480ba67ea45",
   "metadata": {},
   "source": [
    "* Since all the categorical columns have p-value less than 0.05, we will select all of them"
   ]
  },
  {
   "cell_type": "markdown",
   "id": "9013d1c0-1ef8-436a-b754-062d48e3c7a8",
   "metadata": {},
   "source": [
    "#### Numerical columns"
   ]
  },
  {
   "cell_type": "code",
   "execution_count": 23,
   "id": "8a85318f-12dc-43bf-a3a1-9bc9981818e4",
   "metadata": {},
   "outputs": [
    {
     "data": {
      "text/plain": [
       "72"
      ]
     },
     "execution_count": 23,
     "metadata": {},
     "output_type": "execute_result"
    }
   ],
   "source": [
    "numeric_col = []\n",
    "\n",
    "for i in df.columns:\n",
    "    if df[i].dtype != 'object' and i not in ['PROSPECTID', 'Approved_Flag']:\n",
    "        numeric_col.append(i)\n",
    "\n",
    "len(numeric_col)"
   ]
  },
  {
   "cell_type": "markdown",
   "id": "a9578b87-b3e1-402c-82d0-dfa93fdfd096",
   "metadata": {},
   "source": [
    "* Before checking columns with output col, first we need to check multi-collinearity or VIF\n",
    "* `Multi-collinearity tells us predictibility of each features by other features.`\n",
    "* `Correlation tells us the intensity of the relationship also negative or positive, specific to linear relationships between columns.`\n",
    "* In convex functions, correlation gives misleading values."
   ]
  },
  {
   "cell_type": "markdown",
   "id": "a0453810-43b2-48d8-b009-12959a3a5af7",
   "metadata": {},
   "source": [
    "# VIF\n",
    "* Variance inflation factor\n",
    "* used to identify multicollinearity\n",
    "* takes r-squared value and eliminate if crosses the threshold\n",
    "* `1/ 1 - r-squared`\n",
    "* `VIF = 1 --> no multicollinearity`\n",
    "* `VIF = 1 - 5 --> low multicollinearity`\n",
    "* `VIF = 5 - 10 --> moderate multicollinearity`\n",
    "* `VIF > 10 --> High multicollinearity`"
   ]
  },
  {
   "cell_type": "code",
   "execution_count": 24,
   "id": "cfe9fdb4-6605-4218-91a3-9a382c69325f",
   "metadata": {},
   "outputs": [
    {
     "name": "stdout",
     "output_type": "stream",
     "text": [
      "0 --- inf\n",
      "0 --- inf\n",
      "0 --- 11.320180023967996\n",
      "0 --- 8.363698035000336\n",
      "0 --- 6.520647877790928\n",
      "0 --- 5.149501618212625\n",
      "1 --- 2.6111110405797344\n",
      "2 --- inf\n",
      "2 --- 1788.7926256209232\n",
      "2 --- 8.601028256477228\n",
      "2 --- 3.832800792153077\n",
      "3 --- 6.099653381646731\n",
      "3 --- 5.581352009642731\n",
      "4 --- 1.9855843530987776\n",
      "5 --- inf\n",
      "5 --- 4.80953830281934\n",
      "6 --- 23.270628983464636\n",
      "6 --- 30.595522588100053\n",
      "6 --- 4.384346405965583\n",
      "7 --- 3.064658415523423\n",
      "8 --- 2.898639771299251\n",
      "9 --- 4.377876915347319\n",
      "10 --- 2.207853583695841\n",
      "11 --- 4.916914200506864\n",
      "12 --- 5.214702030064725\n",
      "13 --- 3.386162502423145\n",
      "14 --- 7.840583309478997\n",
      "14 --- 5.255034641721434\n",
      "15 --- inf\n",
      "15 --- 7.380634506427238\n",
      "15 --- 1.4210050015175735\n",
      "16 --- 8.083255010190316\n",
      "16 --- 1.6241227524040114\n",
      "17 --- 7.257811920140003\n",
      "17 --- 15.59624383268298\n",
      "17 --- 1.8258570471324307\n",
      "18 --- 1.5080839450032664\n",
      "19 --- 2.1720888348245757\n",
      "20 --- 2.623397553527229\n",
      "21 --- 2.295997081210618\n",
      "22 --- 7.360578319196433\n",
      "22 --- 2.160238777310255\n",
      "23 --- 2.8686288267891475\n",
      "24 --- 6.458218003637272\n",
      "24 --- 2.8474118865638283\n",
      "25 --- 4.7531981562840855\n",
      "26 --- 16.22735475594825\n",
      "26 --- 6.424377256363877\n",
      "26 --- 8.887080381808678\n",
      "26 --- 2.3804746142952653\n",
      "27 --- 8.60951347651454\n",
      "27 --- 13.06755093547673\n",
      "27 --- 3.500040056654654\n",
      "28 --- 1.9087955874813773\n",
      "29 --- 17.006562234161628\n",
      "29 --- 10.730485153719197\n",
      "29 --- 2.3538497522950275\n",
      "30 --- 22.104855915136433\n",
      "30 --- 2.7971639638512915\n",
      "31 --- 3.424171203217697\n",
      "32 --- 10.175021454450969\n",
      "32 --- 6.408710354561301\n",
      "32 --- 1.0011511962625628\n",
      "33 --- 3.069197305397273\n",
      "34 --- 2.8091261600643724\n",
      "35 --- 20.249538381980678\n",
      "35 --- 15.864576541593774\n",
      "35 --- 1.8331649740532152\n",
      "36 --- 1.5680839909542037\n",
      "37 --- 1.9307572353811677\n",
      "38 --- 4.331265056645249\n",
      "39 --- 9.390334396150173\n"
     ]
    }
   ],
   "source": [
    "# VIF - sequential method\n",
    "\n",
    "vif_data = df[numeric_col]\n",
    "total_columns = vif_data.shape[1]\n",
    "columns_to_be_kept = []\n",
    "column_index = 0\n",
    "\n",
    "for i in range (0,total_columns):\n",
    "    \n",
    "    vif_value = variance_inflation_factor(vif_data, column_index)\n",
    "    print (column_index,'---',vif_value)\n",
    "    \n",
    "    \n",
    "    if vif_value <= 6:\n",
    "        columns_to_be_kept.append( numeric_col[i] )\n",
    "        column_index = column_index+1\n",
    "    \n",
    "    else:\n",
    "        vif_data = vif_data.drop([ numeric_col[i] ] , axis=1)\n"
   ]
  },
  {
   "cell_type": "code",
   "execution_count": 25,
   "id": "3a721630-4a9e-43c3-b8c3-649f4b7a4d84",
   "metadata": {},
   "outputs": [
    {
     "data": {
      "text/plain": [
       "39"
      ]
     },
     "execution_count": 25,
     "metadata": {},
     "output_type": "execute_result"
    }
   ],
   "source": [
    "len(columns_to_be_kept)"
   ]
  },
  {
   "cell_type": "markdown",
   "id": "ddc9fecb-7d2e-4dcc-b3ab-283172ae6767",
   "metadata": {},
   "source": [
    "# ANOVA test"
   ]
  },
  {
   "cell_type": "code",
   "execution_count": 26,
   "id": "2a0b72b7-bd30-44f1-98a0-ab57b3c76bb6",
   "metadata": {},
   "outputs": [],
   "source": [
    "from scipy.stats import f_oneway\n",
    "\n",
    "columns_to_be_kept_numerical = []\n",
    "\n",
    "for i in columns_to_be_kept:\n",
    "    a = list(df[i])  \n",
    "    b = list(df['Approved_Flag'])  \n",
    "    \n",
    "    group_P1 = [value for value, group in zip(a, b) if group == 'P1']\n",
    "    group_P2 = [value for value, group in zip(a, b) if group == 'P2']\n",
    "    group_P3 = [value for value, group in zip(a, b) if group == 'P3']\n",
    "    group_P4 = [value for value, group in zip(a, b) if group == 'P4']\n",
    "\n",
    "\n",
    "    f_statistic, p_value = f_oneway(group_P1, group_P2, group_P3, group_P4)\n",
    "\n",
    "    if p_value <= 0.05:\n",
    "        columns_to_be_kept_numerical.append(i)"
   ]
  },
  {
   "cell_type": "code",
   "execution_count": 27,
   "id": "2fe75a57-665a-4d97-8e9d-822c458c1d6e",
   "metadata": {},
   "outputs": [
    {
     "data": {
      "text/plain": [
       "37"
      ]
     },
     "execution_count": 27,
     "metadata": {},
     "output_type": "execute_result"
    }
   ],
   "source": [
    "len(columns_to_be_kept_numerical)"
   ]
  },
  {
   "cell_type": "markdown",
   "id": "4b60c207-a5c3-49d3-984f-35b9c4b80954",
   "metadata": {},
   "source": [
    "# Example for Chi2 and ANOVA"
   ]
  },
  {
   "cell_type": "code",
   "execution_count": 28,
   "id": "2bae6ab4-33ff-4700-984f-a30277f940c1",
   "metadata": {},
   "outputs": [
    {
     "name": "stdout",
     "output_type": "stream",
     "text": [
      "[(1, 4), (2, 5), (3, 6)]\n"
     ]
    }
   ],
   "source": [
    "a = [1, 2, 3]\n",
    "b = [4, 5, 6]\n",
    "\n",
    "print(list(zip(a, b)))"
   ]
  },
  {
   "cell_type": "code",
   "execution_count": 29,
   "id": "7353486b-2fdd-40b6-9f7f-076f6bf0e737",
   "metadata": {},
   "outputs": [],
   "source": [
    "# Example of chi2\n",
    "\n",
    "a = ['cat', 'cat', 'cat', 'dog', 'dog', 'dog', 'mouse', 'mouse', 'mouse']\n",
    "b = ['p1', 'p1', 'p1', 'p2', 'p2', 'p2', 'p3', 'p3', 'p3']"
   ]
  },
  {
   "cell_type": "code",
   "execution_count": 30,
   "id": "603fbf64-2578-4397-87ad-ddc7e5710c44",
   "metadata": {},
   "outputs": [],
   "source": [
    "df_test = pd.DataFrame({'a' : a, 'b' : b})"
   ]
  },
  {
   "cell_type": "code",
   "execution_count": 31,
   "id": "a75d8a61-99ec-41df-88a0-60153785540b",
   "metadata": {},
   "outputs": [
    {
     "data": {
      "text/html": [
       "<div>\n",
       "<style scoped>\n",
       "    .dataframe tbody tr th:only-of-type {\n",
       "        vertical-align: middle;\n",
       "    }\n",
       "\n",
       "    .dataframe tbody tr th {\n",
       "        vertical-align: top;\n",
       "    }\n",
       "\n",
       "    .dataframe thead th {\n",
       "        text-align: right;\n",
       "    }\n",
       "</style>\n",
       "<table border=\"1\" class=\"dataframe\">\n",
       "  <thead>\n",
       "    <tr style=\"text-align: right;\">\n",
       "      <th></th>\n",
       "      <th>a</th>\n",
       "      <th>b</th>\n",
       "    </tr>\n",
       "  </thead>\n",
       "  <tbody>\n",
       "    <tr>\n",
       "      <th>0</th>\n",
       "      <td>cat</td>\n",
       "      <td>p1</td>\n",
       "    </tr>\n",
       "    <tr>\n",
       "      <th>1</th>\n",
       "      <td>cat</td>\n",
       "      <td>p1</td>\n",
       "    </tr>\n",
       "    <tr>\n",
       "      <th>2</th>\n",
       "      <td>cat</td>\n",
       "      <td>p1</td>\n",
       "    </tr>\n",
       "    <tr>\n",
       "      <th>3</th>\n",
       "      <td>dog</td>\n",
       "      <td>p2</td>\n",
       "    </tr>\n",
       "    <tr>\n",
       "      <th>4</th>\n",
       "      <td>dog</td>\n",
       "      <td>p2</td>\n",
       "    </tr>\n",
       "    <tr>\n",
       "      <th>5</th>\n",
       "      <td>dog</td>\n",
       "      <td>p2</td>\n",
       "    </tr>\n",
       "    <tr>\n",
       "      <th>6</th>\n",
       "      <td>mouse</td>\n",
       "      <td>p3</td>\n",
       "    </tr>\n",
       "    <tr>\n",
       "      <th>7</th>\n",
       "      <td>mouse</td>\n",
       "      <td>p3</td>\n",
       "    </tr>\n",
       "    <tr>\n",
       "      <th>8</th>\n",
       "      <td>mouse</td>\n",
       "      <td>p3</td>\n",
       "    </tr>\n",
       "  </tbody>\n",
       "</table>\n",
       "</div>"
      ],
      "text/plain": [
       "       a   b\n",
       "0    cat  p1\n",
       "1    cat  p1\n",
       "2    cat  p1\n",
       "3    dog  p2\n",
       "4    dog  p2\n",
       "5    dog  p2\n",
       "6  mouse  p3\n",
       "7  mouse  p3\n",
       "8  mouse  p3"
      ]
     },
     "execution_count": 31,
     "metadata": {},
     "output_type": "execute_result"
    }
   ],
   "source": [
    "df_test"
   ]
  },
  {
   "cell_type": "code",
   "execution_count": 32,
   "id": "6e08c448-220c-483c-8444-3e2d5efcfd99",
   "metadata": {},
   "outputs": [
    {
     "name": "stdout",
     "output_type": "stream",
     "text": [
      "0.0012340980408667957\n"
     ]
    }
   ],
   "source": [
    "chi2, pval, _, _ = chi2_contingency(pd.crosstab(df_test['a'], df_test['b']))\n",
    "print(pval)"
   ]
  },
  {
   "cell_type": "code",
   "execution_count": 33,
   "id": "8641f408-cae4-4dcc-9be5-465b450360c7",
   "metadata": {},
   "outputs": [
    {
     "name": "stdout",
     "output_type": "stream",
     "text": [
      "We will reject H0, there is association\n"
     ]
    }
   ],
   "source": [
    "if pval < 0.05:\n",
    "    print('We will reject H0, there is association')\n",
    "else:\n",
    "    print('We dont have enough evidence to support H1, there is not any association')"
   ]
  },
  {
   "cell_type": "code",
   "execution_count": 34,
   "id": "204f2119-1623-4a10-9ade-f392c5fee18b",
   "metadata": {},
   "outputs": [],
   "source": [
    "# Example of chi2\n",
    "\n",
    "a1 = ['cat', 'cat', 'cat', 'dog', 'dog', 'dog', 'mouse', 'mouse', 'mouse']\n",
    "b1 = ['p1', 'p1', 'p2', 'p3', 'p2', 'p3', 'p3', 'p2', 'p1']"
   ]
  },
  {
   "cell_type": "code",
   "execution_count": 35,
   "id": "99efb776-0aad-4090-b8f0-a920065ef92f",
   "metadata": {},
   "outputs": [
    {
     "data": {
      "text/html": [
       "<div>\n",
       "<style scoped>\n",
       "    .dataframe tbody tr th:only-of-type {\n",
       "        vertical-align: middle;\n",
       "    }\n",
       "\n",
       "    .dataframe tbody tr th {\n",
       "        vertical-align: top;\n",
       "    }\n",
       "\n",
       "    .dataframe thead th {\n",
       "        text-align: right;\n",
       "    }\n",
       "</style>\n",
       "<table border=\"1\" class=\"dataframe\">\n",
       "  <thead>\n",
       "    <tr style=\"text-align: right;\">\n",
       "      <th></th>\n",
       "      <th>a1</th>\n",
       "      <th>b1</th>\n",
       "    </tr>\n",
       "  </thead>\n",
       "  <tbody>\n",
       "    <tr>\n",
       "      <th>0</th>\n",
       "      <td>cat</td>\n",
       "      <td>p1</td>\n",
       "    </tr>\n",
       "    <tr>\n",
       "      <th>1</th>\n",
       "      <td>cat</td>\n",
       "      <td>p1</td>\n",
       "    </tr>\n",
       "    <tr>\n",
       "      <th>2</th>\n",
       "      <td>cat</td>\n",
       "      <td>p2</td>\n",
       "    </tr>\n",
       "    <tr>\n",
       "      <th>3</th>\n",
       "      <td>dog</td>\n",
       "      <td>p3</td>\n",
       "    </tr>\n",
       "    <tr>\n",
       "      <th>4</th>\n",
       "      <td>dog</td>\n",
       "      <td>p2</td>\n",
       "    </tr>\n",
       "    <tr>\n",
       "      <th>5</th>\n",
       "      <td>dog</td>\n",
       "      <td>p3</td>\n",
       "    </tr>\n",
       "    <tr>\n",
       "      <th>6</th>\n",
       "      <td>mouse</td>\n",
       "      <td>p3</td>\n",
       "    </tr>\n",
       "    <tr>\n",
       "      <th>7</th>\n",
       "      <td>mouse</td>\n",
       "      <td>p2</td>\n",
       "    </tr>\n",
       "    <tr>\n",
       "      <th>8</th>\n",
       "      <td>mouse</td>\n",
       "      <td>p1</td>\n",
       "    </tr>\n",
       "  </tbody>\n",
       "</table>\n",
       "</div>"
      ],
      "text/plain": [
       "      a1  b1\n",
       "0    cat  p1\n",
       "1    cat  p1\n",
       "2    cat  p2\n",
       "3    dog  p3\n",
       "4    dog  p2\n",
       "5    dog  p3\n",
       "6  mouse  p3\n",
       "7  mouse  p2\n",
       "8  mouse  p1"
      ]
     },
     "execution_count": 35,
     "metadata": {},
     "output_type": "execute_result"
    }
   ],
   "source": [
    "df_test_1 = pd.DataFrame({'a1' : a1, 'b1' : b1})\n",
    "df_test_1"
   ]
  },
  {
   "cell_type": "code",
   "execution_count": 36,
   "id": "dfb438a0-3b56-4ab3-88c9-4f439e4fc87a",
   "metadata": {},
   "outputs": [
    {
     "name": "stdout",
     "output_type": "stream",
     "text": [
      "0.40600584970983794\n"
     ]
    }
   ],
   "source": [
    "chi2_1, pval_1, _, _ = chi2_contingency(pd.crosstab(df_test_1['a1'], df_test_1['b1']))\n",
    "print(pval_1)"
   ]
  },
  {
   "cell_type": "code",
   "execution_count": 37,
   "id": "907b00b7-3116-4e37-be45-5f1750903b1f",
   "metadata": {},
   "outputs": [
    {
     "name": "stdout",
     "output_type": "stream",
     "text": [
      "We dont have enough evidence to support H1, there is not any association\n"
     ]
    }
   ],
   "source": [
    "if pval_1 < 0.05:\n",
    "    print('We will reject H0, there is association')\n",
    "else:\n",
    "    print('We dont have enough evidence to support H1, there is not any association')"
   ]
  },
  {
   "cell_type": "code",
   "execution_count": 38,
   "id": "7b01f8e8-d4d2-4a97-a277-f8ef6bfcbb0e",
   "metadata": {},
   "outputs": [],
   "source": [
    "# Example of ANOVA Test\n",
    "\n",
    "a = [10, 10, 11, 12, 12, 12, 15, 15, 15]\n",
    "b = ['p1', 'p1', 'p2', 'p2', 'p2', 'p2', 'p3', 'p3', 'p3']"
   ]
  },
  {
   "cell_type": "code",
   "execution_count": 39,
   "id": "a45b54e4-6845-4fb5-9125-fced6378703c",
   "metadata": {},
   "outputs": [],
   "source": [
    "grp1 = [val for val, grp in zip(a, b) if grp == 'p1']\n",
    "grp2 = [val for val, grp in zip(a, b) if grp == 'p2']\n",
    "grp3 = [val for val, grp in zip(a, b) if grp == 'p3']"
   ]
  },
  {
   "cell_type": "code",
   "execution_count": 40,
   "id": "030f1f42-bb26-4842-a830-fdf82a065e88",
   "metadata": {},
   "outputs": [],
   "source": [
    "f_statistic, p_value = f_oneway(grp1, grp2, grp3)"
   ]
  },
  {
   "cell_type": "code",
   "execution_count": 41,
   "id": "593389f9-619b-4a65-98cf-21affb649c9b",
   "metadata": {},
   "outputs": [
    {
     "name": "stdout",
     "output_type": "stream",
     "text": [
      "1.0525898285282773e-05\n"
     ]
    }
   ],
   "source": [
    "print(p_value)"
   ]
  },
  {
   "cell_type": "code",
   "execution_count": 42,
   "id": "1568e0d6-2431-40e1-8119-12266265ddf4",
   "metadata": {},
   "outputs": [
    {
     "name": "stdout",
     "output_type": "stream",
     "text": [
      "We will reject H0, there is association\n"
     ]
    }
   ],
   "source": [
    "if p_value < 0.05:\n",
    "    print('We will reject H0, there is association')\n",
    "else:\n",
    "    print('We dont have enough evidence to support H1, there is not any association')"
   ]
  },
  {
   "cell_type": "code",
   "execution_count": 43,
   "id": "5c562347-8623-4d73-aee6-72fb93c342b6",
   "metadata": {},
   "outputs": [
    {
     "data": {
      "text/plain": [
       "(42064, 79)"
      ]
     },
     "execution_count": 43,
     "metadata": {},
     "output_type": "execute_result"
    }
   ],
   "source": [
    "df.shape"
   ]
  },
  {
   "cell_type": "code",
   "execution_count": 44,
   "id": "6cd7d669-5899-4179-9d02-0d0583c7e56b",
   "metadata": {},
   "outputs": [
    {
     "name": "stdout",
     "output_type": "stream",
     "text": [
      "['Married' 'Single']\n",
      "['12TH' 'GRADUATE' 'SSC' 'POST-GRADUATE' 'UNDER GRADUATE' 'OTHERS'\n",
      " 'PROFESSIONAL']\n",
      "['M' 'F']\n",
      "['PL' 'ConsumerLoan' 'AL' 'CC' 'others' 'HL']\n",
      "['PL' 'ConsumerLoan' 'others' 'AL' 'HL' 'CC']\n"
     ]
    }
   ],
   "source": [
    "print(df['MARITALSTATUS'].unique())  \n",
    "print(df['EDUCATION'].unique())\n",
    "print(df['GENDER'].unique())\n",
    "print(df['last_prod_enq2'].unique())\n",
    "print(df['first_prod_enq2'].unique())"
   ]
  },
  {
   "cell_type": "markdown",
   "id": "e52f090e-1299-416f-9aec-fa1daefbecd5",
   "metadata": {},
   "source": [
    "#### Ordinal feature -- EDUCATION\n",
    "* SSC            : 1\n",
    "* 12TH           : 2\n",
    "* GRADUATE       : 3\n",
    "* UNDER GRADUATE : 3\n",
    "* POST-GRADUATE  : 4\n",
    "* OTHERS         : 1\n",
    "* PROFESSIONAL   : 3"
   ]
  },
  {
   "cell_type": "code",
   "execution_count": 45,
   "id": "0a8b5bbd-7c59-4706-86c2-9fe2d516c1b9",
   "metadata": {},
   "outputs": [],
   "source": [
    "df['EDUCATION'] = df['EDUCATION'].map({'SSC' : 1, '12TH' : 2, 'GRADUATE' : 3, 'UNDER GRADUATE' : 3,\n",
    "                                       'POST-GRADUATE' : 4, 'OTHERS' : 1, 'PROFESSIONAL' : 3}) "
   ]
  },
  {
   "cell_type": "code",
   "execution_count": 46,
   "id": "a23cf1fb-8df5-4172-88c8-9071e24bebcb",
   "metadata": {},
   "outputs": [
    {
     "data": {
      "text/plain": [
       "EDUCATION\n",
       "3    18931\n",
       "2    11703\n",
       "1     9532\n",
       "4     1898\n",
       "Name: count, dtype: int64"
      ]
     },
     "execution_count": 46,
     "metadata": {},
     "output_type": "execute_result"
    }
   ],
   "source": [
    "df['EDUCATION'].value_counts()"
   ]
  },
  {
   "cell_type": "code",
   "execution_count": 47,
   "id": "362e68d2-2478-406f-9686-8d11f540bdcd",
   "metadata": {},
   "outputs": [],
   "source": [
    "df_encoded = pd.get_dummies(df, columns=['MARITALSTATUS','GENDER', 'last_prod_enq2' ,'first_prod_enq2'])"
   ]
  },
  {
   "cell_type": "code",
   "execution_count": 48,
   "id": "1708058b-6022-48be-90e5-1cfcb53d8965",
   "metadata": {},
   "outputs": [
    {
     "name": "stdout",
     "output_type": "stream",
     "text": [
      "<class 'pandas.core.frame.DataFrame'>\n",
      "RangeIndex: 42064 entries, 0 to 42063\n",
      "Data columns (total 91 columns):\n",
      " #   Column                        Non-Null Count  Dtype  \n",
      "---  ------                        --------------  -----  \n",
      " 0   PROSPECTID                    42064 non-null  int64  \n",
      " 1   Total_TL                      42064 non-null  int64  \n",
      " 2   Tot_Closed_TL                 42064 non-null  int64  \n",
      " 3   Tot_Active_TL                 42064 non-null  int64  \n",
      " 4   Total_TL_opened_L6M           42064 non-null  int64  \n",
      " 5   Tot_TL_closed_L6M             42064 non-null  int64  \n",
      " 6   pct_tl_open_L6M               42064 non-null  float64\n",
      " 7   pct_tl_closed_L6M             42064 non-null  float64\n",
      " 8   pct_active_tl                 42064 non-null  float64\n",
      " 9   pct_closed_tl                 42064 non-null  float64\n",
      " 10  Total_TL_opened_L12M          42064 non-null  int64  \n",
      " 11  Tot_TL_closed_L12M            42064 non-null  int64  \n",
      " 12  pct_tl_open_L12M              42064 non-null  float64\n",
      " 13  pct_tl_closed_L12M            42064 non-null  float64\n",
      " 14  Tot_Missed_Pmnt               42064 non-null  int64  \n",
      " 15  Auto_TL                       42064 non-null  int64  \n",
      " 16  CC_TL                         42064 non-null  int64  \n",
      " 17  Consumer_TL                   42064 non-null  int64  \n",
      " 18  Gold_TL                       42064 non-null  int64  \n",
      " 19  Home_TL                       42064 non-null  int64  \n",
      " 20  PL_TL                         42064 non-null  int64  \n",
      " 21  Secured_TL                    42064 non-null  int64  \n",
      " 22  Unsecured_TL                  42064 non-null  int64  \n",
      " 23  Other_TL                      42064 non-null  int64  \n",
      " 24  Age_Oldest_TL                 42064 non-null  int64  \n",
      " 25  Age_Newest_TL                 42064 non-null  int64  \n",
      " 26  time_since_recent_payment     42064 non-null  int64  \n",
      " 27  num_times_delinquent          42064 non-null  int64  \n",
      " 28  max_recent_level_of_deliq     42064 non-null  int64  \n",
      " 29  num_deliq_6mts                42064 non-null  int64  \n",
      " 30  num_deliq_12mts               42064 non-null  int64  \n",
      " 31  num_deliq_6_12mts             42064 non-null  int64  \n",
      " 32  num_times_30p_dpd             42064 non-null  int64  \n",
      " 33  num_times_60p_dpd             42064 non-null  int64  \n",
      " 34  num_std                       42064 non-null  int64  \n",
      " 35  num_std_6mts                  42064 non-null  int64  \n",
      " 36  num_std_12mts                 42064 non-null  int64  \n",
      " 37  num_sub                       42064 non-null  int64  \n",
      " 38  num_sub_6mts                  42064 non-null  int64  \n",
      " 39  num_sub_12mts                 42064 non-null  int64  \n",
      " 40  num_dbt                       42064 non-null  int64  \n",
      " 41  num_dbt_6mts                  42064 non-null  int64  \n",
      " 42  num_dbt_12mts                 42064 non-null  int64  \n",
      " 43  num_lss                       42064 non-null  int64  \n",
      " 44  num_lss_6mts                  42064 non-null  int64  \n",
      " 45  num_lss_12mts                 42064 non-null  int64  \n",
      " 46  recent_level_of_deliq         42064 non-null  int64  \n",
      " 47  tot_enq                       42064 non-null  int64  \n",
      " 48  CC_enq                        42064 non-null  int64  \n",
      " 49  CC_enq_L6m                    42064 non-null  int64  \n",
      " 50  CC_enq_L12m                   42064 non-null  int64  \n",
      " 51  PL_enq                        42064 non-null  int64  \n",
      " 52  PL_enq_L6m                    42064 non-null  int64  \n",
      " 53  PL_enq_L12m                   42064 non-null  int64  \n",
      " 54  time_since_recent_enq         42064 non-null  int64  \n",
      " 55  enq_L12m                      42064 non-null  int64  \n",
      " 56  enq_L6m                       42064 non-null  int64  \n",
      " 57  enq_L3m                       42064 non-null  int64  \n",
      " 58  EDUCATION                     42064 non-null  int64  \n",
      " 59  AGE                           42064 non-null  int64  \n",
      " 60  NETMONTHLYINCOME              42064 non-null  int64  \n",
      " 61  Time_With_Curr_Empr           42064 non-null  int64  \n",
      " 62  pct_of_active_TLs_ever        42064 non-null  float64\n",
      " 63  pct_opened_TLs_L6m_of_L12m    42064 non-null  float64\n",
      " 64  pct_currentBal_all_TL         42064 non-null  float64\n",
      " 65  CC_Flag                       42064 non-null  int64  \n",
      " 66  PL_Flag                       42064 non-null  int64  \n",
      " 67  pct_PL_enq_L6m_of_L12m        42064 non-null  float64\n",
      " 68  pct_CC_enq_L6m_of_L12m        42064 non-null  float64\n",
      " 69  pct_PL_enq_L6m_of_ever        42064 non-null  float64\n",
      " 70  pct_CC_enq_L6m_of_ever        42064 non-null  float64\n",
      " 71  HL_Flag                       42064 non-null  int64  \n",
      " 72  GL_Flag                       42064 non-null  int64  \n",
      " 73  Credit_Score                  42064 non-null  int64  \n",
      " 74  Approved_Flag                 42064 non-null  object \n",
      " 75  MARITALSTATUS_Married         42064 non-null  bool   \n",
      " 76  MARITALSTATUS_Single          42064 non-null  bool   \n",
      " 77  GENDER_F                      42064 non-null  bool   \n",
      " 78  GENDER_M                      42064 non-null  bool   \n",
      " 79  last_prod_enq2_AL             42064 non-null  bool   \n",
      " 80  last_prod_enq2_CC             42064 non-null  bool   \n",
      " 81  last_prod_enq2_ConsumerLoan   42064 non-null  bool   \n",
      " 82  last_prod_enq2_HL             42064 non-null  bool   \n",
      " 83  last_prod_enq2_PL             42064 non-null  bool   \n",
      " 84  last_prod_enq2_others         42064 non-null  bool   \n",
      " 85  first_prod_enq2_AL            42064 non-null  bool   \n",
      " 86  first_prod_enq2_CC            42064 non-null  bool   \n",
      " 87  first_prod_enq2_ConsumerLoan  42064 non-null  bool   \n",
      " 88  first_prod_enq2_HL            42064 non-null  bool   \n",
      " 89  first_prod_enq2_PL            42064 non-null  bool   \n",
      " 90  first_prod_enq2_others        42064 non-null  bool   \n",
      "dtypes: bool(16), float64(13), int64(61), object(1)\n",
      "memory usage: 24.7+ MB\n"
     ]
    }
   ],
   "source": [
    "df_encoded.info()\n",
    "k = df_encoded.describe()"
   ]
  },
  {
   "cell_type": "markdown",
   "id": "67fbd961-97b4-47e5-8193-dd2e899a3963",
   "metadata": {},
   "source": [
    "# Model fitting "
   ]
  },
  {
   "cell_type": "markdown",
   "id": "c90ba0bb-06aa-4616-9d68-926cc99eff0e",
   "metadata": {},
   "source": [
    "# Random Forest"
   ]
  },
  {
   "cell_type": "code",
   "execution_count": 49,
   "id": "3dce397f-450e-448f-b752-9488d1f409b7",
   "metadata": {},
   "outputs": [],
   "source": [
    "x = df_encoded. drop ( ['Approved_Flag'], axis = 1 )\n",
    "y = df_encoded['Approved_Flag']"
   ]
  },
  {
   "cell_type": "code",
   "execution_count": 50,
   "id": "d6faea68-82f9-43be-ba09-672b9cd7d272",
   "metadata": {},
   "outputs": [],
   "source": [
    "x_train, x_test, y_train, y_test = train_test_split(x, y, test_size = 0.2, random_state = 42)"
   ]
  },
  {
   "cell_type": "code",
   "execution_count": 51,
   "id": "ba7cf3aa-0b95-42ac-8d44-fd246efaafa6",
   "metadata": {},
   "outputs": [
    {
     "data": {
      "text/html": [
       "<style>#sk-container-id-1 {color: black;}#sk-container-id-1 pre{padding: 0;}#sk-container-id-1 div.sk-toggleable {background-color: white;}#sk-container-id-1 label.sk-toggleable__label {cursor: pointer;display: block;width: 100%;margin-bottom: 0;padding: 0.3em;box-sizing: border-box;text-align: center;}#sk-container-id-1 label.sk-toggleable__label-arrow:before {content: \"▸\";float: left;margin-right: 0.25em;color: #696969;}#sk-container-id-1 label.sk-toggleable__label-arrow:hover:before {color: black;}#sk-container-id-1 div.sk-estimator:hover label.sk-toggleable__label-arrow:before {color: black;}#sk-container-id-1 div.sk-toggleable__content {max-height: 0;max-width: 0;overflow: hidden;text-align: left;background-color: #f0f8ff;}#sk-container-id-1 div.sk-toggleable__content pre {margin: 0.2em;color: black;border-radius: 0.25em;background-color: #f0f8ff;}#sk-container-id-1 input.sk-toggleable__control:checked~div.sk-toggleable__content {max-height: 200px;max-width: 100%;overflow: auto;}#sk-container-id-1 input.sk-toggleable__control:checked~label.sk-toggleable__label-arrow:before {content: \"▾\";}#sk-container-id-1 div.sk-estimator input.sk-toggleable__control:checked~label.sk-toggleable__label {background-color: #d4ebff;}#sk-container-id-1 div.sk-label input.sk-toggleable__control:checked~label.sk-toggleable__label {background-color: #d4ebff;}#sk-container-id-1 input.sk-hidden--visually {border: 0;clip: rect(1px 1px 1px 1px);clip: rect(1px, 1px, 1px, 1px);height: 1px;margin: -1px;overflow: hidden;padding: 0;position: absolute;width: 1px;}#sk-container-id-1 div.sk-estimator {font-family: monospace;background-color: #f0f8ff;border: 1px dotted black;border-radius: 0.25em;box-sizing: border-box;margin-bottom: 0.5em;}#sk-container-id-1 div.sk-estimator:hover {background-color: #d4ebff;}#sk-container-id-1 div.sk-parallel-item::after {content: \"\";width: 100%;border-bottom: 1px solid gray;flex-grow: 1;}#sk-container-id-1 div.sk-label:hover label.sk-toggleable__label {background-color: #d4ebff;}#sk-container-id-1 div.sk-serial::before {content: \"\";position: absolute;border-left: 1px solid gray;box-sizing: border-box;top: 0;bottom: 0;left: 50%;z-index: 0;}#sk-container-id-1 div.sk-serial {display: flex;flex-direction: column;align-items: center;background-color: white;padding-right: 0.2em;padding-left: 0.2em;position: relative;}#sk-container-id-1 div.sk-item {position: relative;z-index: 1;}#sk-container-id-1 div.sk-parallel {display: flex;align-items: stretch;justify-content: center;background-color: white;position: relative;}#sk-container-id-1 div.sk-item::before, #sk-container-id-1 div.sk-parallel-item::before {content: \"\";position: absolute;border-left: 1px solid gray;box-sizing: border-box;top: 0;bottom: 0;left: 50%;z-index: -1;}#sk-container-id-1 div.sk-parallel-item {display: flex;flex-direction: column;z-index: 1;position: relative;background-color: white;}#sk-container-id-1 div.sk-parallel-item:first-child::after {align-self: flex-end;width: 50%;}#sk-container-id-1 div.sk-parallel-item:last-child::after {align-self: flex-start;width: 50%;}#sk-container-id-1 div.sk-parallel-item:only-child::after {width: 0;}#sk-container-id-1 div.sk-dashed-wrapped {border: 1px dashed gray;margin: 0 0.4em 0.5em 0.4em;box-sizing: border-box;padding-bottom: 0.4em;background-color: white;}#sk-container-id-1 div.sk-label label {font-family: monospace;font-weight: bold;display: inline-block;line-height: 1.2em;}#sk-container-id-1 div.sk-label-container {text-align: center;}#sk-container-id-1 div.sk-container {/* jupyter's `normalize.less` sets `[hidden] { display: none; }` but bootstrap.min.css set `[hidden] { display: none !important; }` so we also need the `!important` here to be able to override the default hidden behavior on the sphinx rendered scikit-learn.org. See: https://github.com/scikit-learn/scikit-learn/issues/21755 */display: inline-block !important;position: relative;}#sk-container-id-1 div.sk-text-repr-fallback {display: none;}</style><div id=\"sk-container-id-1\" class=\"sk-top-container\"><div class=\"sk-text-repr-fallback\"><pre>RandomForestClassifier(n_estimators=200, random_state=42)</pre><b>In a Jupyter environment, please rerun this cell to show the HTML representation or trust the notebook. <br />On GitHub, the HTML representation is unable to render, please try loading this page with nbviewer.org.</b></div><div class=\"sk-container\" hidden><div class=\"sk-item\"><div class=\"sk-estimator sk-toggleable\"><input class=\"sk-toggleable__control sk-hidden--visually\" id=\"sk-estimator-id-1\" type=\"checkbox\" checked><label for=\"sk-estimator-id-1\" class=\"sk-toggleable__label sk-toggleable__label-arrow\">RandomForestClassifier</label><div class=\"sk-toggleable__content\"><pre>RandomForestClassifier(n_estimators=200, random_state=42)</pre></div></div></div></div></div>"
      ],
      "text/plain": [
       "RandomForestClassifier(n_estimators=200, random_state=42)"
      ]
     },
     "execution_count": 51,
     "metadata": {},
     "output_type": "execute_result"
    }
   ],
   "source": [
    "rf_classifier = RandomForestClassifier(n_estimators = 200, random_state=42)\n",
    "rf_classifier.fit(x_train, y_train)"
   ]
  },
  {
   "cell_type": "code",
   "execution_count": 52,
   "id": "5e7db795-6893-4d51-bcf0-007ad5049fae",
   "metadata": {},
   "outputs": [],
   "source": [
    "y_pred = rf_classifier.predict(x_test)"
   ]
  },
  {
   "cell_type": "code",
   "execution_count": 53,
   "id": "c326ba2c-e424-4239-a2fe-941346a62d57",
   "metadata": {},
   "outputs": [
    {
     "name": "stdout",
     "output_type": "stream",
     "text": [
      "\n",
      "Accuracy: 0.9900154522762391\n",
      "\n",
      "Class p1:\n",
      "Precision: 0.9465290806754222\n",
      "Recall: 0.995069033530572\n",
      "F1 Score: 0.9701923076923077\n",
      "\n",
      "Class p2:\n",
      "Precision: 0.9954617205998422\n",
      "Recall: 1.0\n",
      "F1 Score: 0.9977256995945812\n",
      "\n",
      "Class p3:\n",
      "Precision: 0.9968102073365231\n",
      "Recall: 0.9433962264150944\n",
      "F1 Score: 0.9693679720822024\n",
      "\n",
      "Class p4:\n",
      "Precision: 1.0\n",
      "Recall: 0.9961127308066083\n",
      "F1 Score: 0.9980525803310614\n",
      "\n"
     ]
    }
   ],
   "source": [
    "accuracy = accuracy_score(y_test, y_pred)\n",
    "print ()\n",
    "print(f'Accuracy: {accuracy}')\n",
    "print ()\n",
    "precision, recall, f1_score, _ = precision_recall_fscore_support(y_test, y_pred)\n",
    "\n",
    "\n",
    "for i, v in enumerate(['p1', 'p2', 'p3', 'p4']):\n",
    "    print(f\"Class {v}:\")\n",
    "    print(f\"Precision: {precision[i]}\")\n",
    "    print(f\"Recall: {recall[i]}\")\n",
    "    print(f\"F1 Score: {f1_score[i]}\")\n",
    "    print()"
   ]
  },
  {
   "cell_type": "markdown",
   "id": "4b821aeb-08c0-4bd2-a166-75ce801e4d3d",
   "metadata": {},
   "source": [
    "# xgboost"
   ]
  },
  {
   "cell_type": "code",
   "execution_count": 77,
   "id": "2d6eb480-4569-484f-88bf-ba2669a2cc00",
   "metadata": {},
   "outputs": [],
   "source": [
    "import xgboost as xgb\n",
    "from sklearn.preprocessing import LabelEncoder"
   ]
  },
  {
   "cell_type": "code",
   "execution_count": 78,
   "id": "2f145204-f857-4f33-ba73-93ef8d1177d8",
   "metadata": {},
   "outputs": [],
   "source": [
    "xgb_classifier = xgb.XGBClassifier(objective='multi:softmax',  num_class=4)"
   ]
  },
  {
   "cell_type": "code",
   "execution_count": 79,
   "id": "84e325ea-b4e1-4434-baa2-cffaf9544261",
   "metadata": {},
   "outputs": [],
   "source": [
    "x = df_encoded.drop ( ['Approved_Flag'], axis = 1 )\n",
    "y = df_encoded['Approved_Flag']"
   ]
  },
  {
   "cell_type": "code",
   "execution_count": 80,
   "id": "8b96f2a5-95ed-4fe5-aeb2-fcddb7f171c8",
   "metadata": {},
   "outputs": [],
   "source": [
    "label_encoder = LabelEncoder()\n",
    "y_encoded = label_encoder.fit_transform(y)"
   ]
  },
  {
   "cell_type": "code",
   "execution_count": 81,
   "id": "4574aa05-cbca-4c82-b6a5-00b6661d42cd",
   "metadata": {},
   "outputs": [],
   "source": [
    "x_train, x_test, y_train, y_test = train_test_split(x, y_encoded, test_size=0.2, random_state=42)"
   ]
  },
  {
   "cell_type": "code",
   "execution_count": 82,
   "id": "95b106a7-e63b-4ca7-ac09-31a207bfbcc8",
   "metadata": {},
   "outputs": [],
   "source": [
    "xgb_classifier.fit(x_train, y_train)\n",
    "y_pred = xgb_classifier.predict(x_test)"
   ]
  },
  {
   "cell_type": "code",
   "execution_count": 83,
   "id": "2ac5588a-c4a1-44e4-bb77-99592ef9c634",
   "metadata": {},
   "outputs": [
    {
     "name": "stdout",
     "output_type": "stream",
     "text": [
      "\n",
      "Accuracy: 1.00\n",
      "\n",
      "Class p1:\n",
      "Precision: 1.0\n",
      "Recall: 1.0\n",
      "F1 Score: 1.0\n",
      "\n",
      "Class p2:\n",
      "Precision: 1.0\n",
      "Recall: 1.0\n",
      "F1 Score: 1.0\n",
      "\n",
      "Class p3:\n",
      "Precision: 1.0\n",
      "Recall: 1.0\n",
      "F1 Score: 1.0\n",
      "\n",
      "Class p4:\n",
      "Precision: 1.0\n",
      "Recall: 1.0\n",
      "F1 Score: 1.0\n",
      "\n"
     ]
    }
   ],
   "source": [
    "accuracy = accuracy_score(y_test, y_pred)\n",
    "print ()\n",
    "print(f'Accuracy: {accuracy:.2f}')\n",
    "print ()\n",
    "\n",
    "precision, recall, f1_score, _ = precision_recall_fscore_support(y_test, y_pred)\n",
    "\n",
    "for i, v in enumerate(['p1', 'p2', 'p3', 'p4']):\n",
    "    print(f\"Class {v}:\")\n",
    "    print(f\"Precision: {precision[i]}\")\n",
    "    print(f\"Recall: {recall[i]}\")\n",
    "    print(f\"F1 Score: {f1_score[i]}\")\n",
    "    print()"
   ]
  },
  {
   "cell_type": "markdown",
   "id": "e3c94320-d6b1-47ea-a75c-0d897e4830e3",
   "metadata": {},
   "source": [
    "# Decision Tree"
   ]
  },
  {
   "cell_type": "code",
   "execution_count": 61,
   "id": "03581d31-5a35-4251-a329-9321296c6f25",
   "metadata": {},
   "outputs": [],
   "source": [
    "from sklearn.tree import DecisionTreeClassifier\n",
    "\n",
    "x = df_encoded.drop ( ['Approved_Flag'], axis = 1 )\n",
    "y = df_encoded['Approved_Flag']"
   ]
  },
  {
   "cell_type": "code",
   "execution_count": 62,
   "id": "ddc6b9f7-5490-4b34-8b4b-a7d0a7de642f",
   "metadata": {},
   "outputs": [],
   "source": [
    "x_train, x_test, y_train, y_test = train_test_split(x, y, test_size=0.2, random_state=42)"
   ]
  },
  {
   "cell_type": "code",
   "execution_count": 63,
   "id": "9a91989c-1689-4686-937d-d060e1e3fb41",
   "metadata": {},
   "outputs": [
    {
     "data": {
      "text/html": [
       "<style>#sk-container-id-2 {color: black;}#sk-container-id-2 pre{padding: 0;}#sk-container-id-2 div.sk-toggleable {background-color: white;}#sk-container-id-2 label.sk-toggleable__label {cursor: pointer;display: block;width: 100%;margin-bottom: 0;padding: 0.3em;box-sizing: border-box;text-align: center;}#sk-container-id-2 label.sk-toggleable__label-arrow:before {content: \"▸\";float: left;margin-right: 0.25em;color: #696969;}#sk-container-id-2 label.sk-toggleable__label-arrow:hover:before {color: black;}#sk-container-id-2 div.sk-estimator:hover label.sk-toggleable__label-arrow:before {color: black;}#sk-container-id-2 div.sk-toggleable__content {max-height: 0;max-width: 0;overflow: hidden;text-align: left;background-color: #f0f8ff;}#sk-container-id-2 div.sk-toggleable__content pre {margin: 0.2em;color: black;border-radius: 0.25em;background-color: #f0f8ff;}#sk-container-id-2 input.sk-toggleable__control:checked~div.sk-toggleable__content {max-height: 200px;max-width: 100%;overflow: auto;}#sk-container-id-2 input.sk-toggleable__control:checked~label.sk-toggleable__label-arrow:before {content: \"▾\";}#sk-container-id-2 div.sk-estimator input.sk-toggleable__control:checked~label.sk-toggleable__label {background-color: #d4ebff;}#sk-container-id-2 div.sk-label input.sk-toggleable__control:checked~label.sk-toggleable__label {background-color: #d4ebff;}#sk-container-id-2 input.sk-hidden--visually {border: 0;clip: rect(1px 1px 1px 1px);clip: rect(1px, 1px, 1px, 1px);height: 1px;margin: -1px;overflow: hidden;padding: 0;position: absolute;width: 1px;}#sk-container-id-2 div.sk-estimator {font-family: monospace;background-color: #f0f8ff;border: 1px dotted black;border-radius: 0.25em;box-sizing: border-box;margin-bottom: 0.5em;}#sk-container-id-2 div.sk-estimator:hover {background-color: #d4ebff;}#sk-container-id-2 div.sk-parallel-item::after {content: \"\";width: 100%;border-bottom: 1px solid gray;flex-grow: 1;}#sk-container-id-2 div.sk-label:hover label.sk-toggleable__label {background-color: #d4ebff;}#sk-container-id-2 div.sk-serial::before {content: \"\";position: absolute;border-left: 1px solid gray;box-sizing: border-box;top: 0;bottom: 0;left: 50%;z-index: 0;}#sk-container-id-2 div.sk-serial {display: flex;flex-direction: column;align-items: center;background-color: white;padding-right: 0.2em;padding-left: 0.2em;position: relative;}#sk-container-id-2 div.sk-item {position: relative;z-index: 1;}#sk-container-id-2 div.sk-parallel {display: flex;align-items: stretch;justify-content: center;background-color: white;position: relative;}#sk-container-id-2 div.sk-item::before, #sk-container-id-2 div.sk-parallel-item::before {content: \"\";position: absolute;border-left: 1px solid gray;box-sizing: border-box;top: 0;bottom: 0;left: 50%;z-index: -1;}#sk-container-id-2 div.sk-parallel-item {display: flex;flex-direction: column;z-index: 1;position: relative;background-color: white;}#sk-container-id-2 div.sk-parallel-item:first-child::after {align-self: flex-end;width: 50%;}#sk-container-id-2 div.sk-parallel-item:last-child::after {align-self: flex-start;width: 50%;}#sk-container-id-2 div.sk-parallel-item:only-child::after {width: 0;}#sk-container-id-2 div.sk-dashed-wrapped {border: 1px dashed gray;margin: 0 0.4em 0.5em 0.4em;box-sizing: border-box;padding-bottom: 0.4em;background-color: white;}#sk-container-id-2 div.sk-label label {font-family: monospace;font-weight: bold;display: inline-block;line-height: 1.2em;}#sk-container-id-2 div.sk-label-container {text-align: center;}#sk-container-id-2 div.sk-container {/* jupyter's `normalize.less` sets `[hidden] { display: none; }` but bootstrap.min.css set `[hidden] { display: none !important; }` so we also need the `!important` here to be able to override the default hidden behavior on the sphinx rendered scikit-learn.org. See: https://github.com/scikit-learn/scikit-learn/issues/21755 */display: inline-block !important;position: relative;}#sk-container-id-2 div.sk-text-repr-fallback {display: none;}</style><div id=\"sk-container-id-2\" class=\"sk-top-container\"><div class=\"sk-text-repr-fallback\"><pre>DecisionTreeClassifier(max_depth=20, min_samples_split=10)</pre><b>In a Jupyter environment, please rerun this cell to show the HTML representation or trust the notebook. <br />On GitHub, the HTML representation is unable to render, please try loading this page with nbviewer.org.</b></div><div class=\"sk-container\" hidden><div class=\"sk-item\"><div class=\"sk-estimator sk-toggleable\"><input class=\"sk-toggleable__control sk-hidden--visually\" id=\"sk-estimator-id-2\" type=\"checkbox\" checked><label for=\"sk-estimator-id-2\" class=\"sk-toggleable__label sk-toggleable__label-arrow\">DecisionTreeClassifier</label><div class=\"sk-toggleable__content\"><pre>DecisionTreeClassifier(max_depth=20, min_samples_split=10)</pre></div></div></div></div></div>"
      ],
      "text/plain": [
       "DecisionTreeClassifier(max_depth=20, min_samples_split=10)"
      ]
     },
     "execution_count": 63,
     "metadata": {},
     "output_type": "execute_result"
    }
   ],
   "source": [
    "dt_model = DecisionTreeClassifier(max_depth=20, min_samples_split=10)\n",
    "dt_model.fit(x_train, y_train)"
   ]
  },
  {
   "cell_type": "code",
   "execution_count": 64,
   "id": "e43b21fe-0fff-4650-ac8d-6d66dc9b7621",
   "metadata": {},
   "outputs": [],
   "source": [
    "y_pred = dt_model.predict(x_test)"
   ]
  },
  {
   "cell_type": "code",
   "execution_count": 65,
   "id": "089ada0f-e3a2-4e27-b4ef-fc8e1d83038f",
   "metadata": {},
   "outputs": [
    {
     "name": "stdout",
     "output_type": "stream",
     "text": [
      "\n",
      "Accuracy: 1.00\n",
      "\n",
      "Class p1:\n",
      "Precision: 1.0\n",
      "Recall: 1.0\n",
      "F1 Score: 1.0\n",
      "\n",
      "Class p2:\n",
      "Precision: 1.0\n",
      "Recall: 1.0\n",
      "F1 Score: 1.0\n",
      "\n",
      "Class p3:\n",
      "Precision: 1.0\n",
      "Recall: 1.0\n",
      "F1 Score: 1.0\n",
      "\n",
      "Class p4:\n",
      "Precision: 1.0\n",
      "Recall: 1.0\n",
      "F1 Score: 1.0\n",
      "\n"
     ]
    }
   ],
   "source": [
    "accuracy = accuracy_score(y_test, y_pred)\n",
    "print ()\n",
    "print(f\"Accuracy: {accuracy:.2f}\")\n",
    "print ()\n",
    "\n",
    "precision, recall, f1_score, _ = precision_recall_fscore_support(y_test, y_pred)\n",
    "\n",
    "for i, v in enumerate(['p1', 'p2', 'p3', 'p4']):\n",
    "    print(f\"Class {v}:\")\n",
    "    print(f\"Precision: {precision[i]}\")\n",
    "    print(f\"Recall: {recall[i]}\")\n",
    "    print(f\"F1 Score: {f1_score[i]}\")\n",
    "    print()"
   ]
  },
  {
   "cell_type": "markdown",
   "id": "1a231907-8765-42c3-8859-e39461d265fe",
   "metadata": {},
   "source": [
    "* Try 2-3 models and record the accuracy and other metrics\n",
    "* Once the metrics are observed, see which one is better\n",
    "* Then do hyper-parameter on that particular model"
   ]
  },
  {
   "cell_type": "markdown",
   "id": "8f938384-716f-4580-ab1f-61815d024282",
   "metadata": {},
   "source": [
    "#### Recall \n",
    "* There are 2 classes red and blue\n",
    "* Recall for red class will be out of total points of that class how many were predicted as red class\n",
    "\n",
    "#### Precision\n",
    "* There are 2 classes red and blue\n",
    "* Out of all predicted as red class, how many are red class"
   ]
  },
  {
   "cell_type": "code",
   "execution_count": 88,
   "id": "a454b85c-fba4-45cf-a083-1a1c531a1c9c",
   "metadata": {},
   "outputs": [
    {
     "name": "stdout",
     "output_type": "stream",
     "text": [
      "Best Hyperparameters: {'learning_rate': 0.01, 'max_depth': 5, 'n_estimators': 50}\n",
      "Test Accuracy: 1.0\n"
     ]
    }
   ],
   "source": [
    "from sklearn.model_selection import GridSearchCV\n",
    "x_train, x_test, y_train, y_test = train_test_split(x, y_encoded, test_size=0.2, random_state=42)\n",
    "\n",
    "# Define the XGBClassifier with the initial set of hyperparameters\n",
    "xgb_model = xgb.XGBClassifier(objective='multi:softmax', num_class=4)\n",
    "\n",
    "# Define the parameter grid for hyperparameter tuning\n",
    "\n",
    "param_grid = {\n",
    "    'n_estimators': [50, 100, 200],\n",
    "    'max_depth': [3, 5, 7],\n",
    "    'learning_rate': [0.01, 0.1, 0.2],\n",
    "}\n",
    "\n",
    "grid_search = GridSearchCV(estimator=xgb_model, param_grid=param_grid, cv=3, scoring='accuracy', n_jobs=-1)\n",
    "grid_search.fit(x_train, y_train)\n",
    "\n",
    "# Print the best hyperparameters\n",
    "print(\"Best Hyperparameters:\", grid_search.best_params_)\n",
    "\n",
    "# Evaluate the model with the best hyperparameters on the test set\n",
    "best_model = grid_search.best_estimator_\n",
    "accuracy = best_model.score(x_test, y_test)\n",
    "print(\"Test Accuracy:\", accuracy)"
   ]
  },
  {
   "cell_type": "code",
   "execution_count": 84,
   "id": "112e81b4-bbd0-4bfc-92e5-babc6d1e49a7",
   "metadata": {},
   "outputs": [],
   "source": [
    "import pickle\n",
    "filename = 'credit_risk.sav'\n",
    "pickle.dump(xgb_classifier, open(filename, 'wb'))"
   ]
  },
  {
   "cell_type": "code",
   "execution_count": 106,
   "id": "a49eb43e-1cc7-4e1b-99be-13e8e9878a1a",
   "metadata": {},
   "outputs": [],
   "source": [
    "load_model = pickle.load(open(filename, 'rb'))"
   ]
  },
  {
   "cell_type": "markdown",
   "id": "27662b49-f09d-4c67-b36b-a16c8e9e330c",
   "metadata": {},
   "source": [
    "# Explaining to Business --> Interpretation of the outcomes\n",
    "\n",
    "* It depends on Risk appetite\n",
    "* If Risk appetite is low --> they are not willing to take much risk --> we can say target only P1 customers\n",
    "* If Risk appetite is high --> they are willing to take risk --> we can say target P1, P2 and maybe P3\n",
    "\n",
    "# Feedback loop\n",
    "\n",
    "* If we receive feedback as 1 - P3 customer is not actually P3, he/she can be labelled as P2 or P1\n",
    "* Based on this we will change the label in our dataset "
   ]
  },
  {
   "cell_type": "markdown",
   "id": "27987b8b-a7ad-43f5-95dc-6e176b13c134",
   "metadata": {},
   "source": [
    "# Correlation v Causation\n",
    "* It is not necessary that if two variable are correlated, then one variable is caused by other.\n",
    "* Ice cream sales increase v shark attacks increase --> this is correlated but this caused because of some other factor (warm temp)"
   ]
  },
  {
   "cell_type": "code",
   "execution_count": null,
   "id": "e300dcdb-493e-4a6b-afc7-f86ffd9e1195",
   "metadata": {},
   "outputs": [],
   "source": []
  }
 ],
 "metadata": {
  "kernelspec": {
   "display_name": "Python 3 (ipykernel)",
   "language": "python",
   "name": "python3"
  },
  "language_info": {
   "codemirror_mode": {
    "name": "ipython",
    "version": 3
   },
   "file_extension": ".py",
   "mimetype": "text/x-python",
   "name": "python",
   "nbconvert_exporter": "python",
   "pygments_lexer": "ipython3",
   "version": "3.10.12"
  }
 },
 "nbformat": 4,
 "nbformat_minor": 5
}
